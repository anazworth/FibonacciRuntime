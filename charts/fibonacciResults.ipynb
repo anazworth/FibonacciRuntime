{
 "cells": [
  {
   "cell_type": "code",
   "execution_count": null,
   "metadata": {},
   "outputs": [],
   "source": [
    "import pandas as pd\n",
    "import numpy as np\n",
    "import plotly.express as px\n",
    "\n",
    "\n",
    "df = pd.read_csv('../results.csv')"
   ]
  },
  {
   "cell_type": "code",
   "execution_count": null,
   "metadata": {},
   "outputs": [],
   "source": [
    "fig = px.scatter(\n",
    "    df,\n",
    "    x='Iterations',\n",
    "    y=['Recursive', 'Iterative'],\n",
    "    title='Fibonacci - Recursive vs Iterative',\n",
    "    labels={'value':'Time (ns)', 'variable':'Method', 'Iterations':'Input (n)'})\n",
    "fig.show()"
   ]
  }
 ],
 "metadata": {
  "kernelspec": {
   "display_name": "base",
   "language": "python",
   "name": "python3"
  },
  "language_info": {
   "codemirror_mode": {
    "name": "ipython",
    "version": 3
   },
   "file_extension": ".py",
   "mimetype": "text/x-python",
   "name": "python",
   "nbconvert_exporter": "python",
   "pygments_lexer": "ipython3",
   "version": "3.9.13"
  },
  "orig_nbformat": 4,
  "vscode": {
   "interpreter": {
    "hash": "27213253eeee3e6fa010244889de1a5543b443aa98f2726429af935879d09176"
   }
  }
 },
 "nbformat": 4,
 "nbformat_minor": 2
}
